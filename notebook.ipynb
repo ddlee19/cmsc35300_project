{
 "cells": [
  {
   "cell_type": "markdown",
   "metadata": {},
   "source": [
    "## CMSC 35300 Final Project"
   ]
  },
  {
   "cell_type": "code",
   "execution_count": 1,
   "metadata": {},
   "outputs": [],
   "source": [
    "import numpy as np\n",
    "from scipy.sparse import csc_matrix\n",
    "from pandas import read_csv"
   ]
  },
  {
   "cell_type": "code",
   "execution_count": 16,
   "metadata": {
    "tags": []
   },
   "outputs": [],
   "source": [
    "k = 10\n",
    "lambd = 4"
   ]
  },
  {
   "cell_type": "code",
   "execution_count": 4,
   "metadata": {},
   "outputs": [],
   "source": [
    "df = read_csv('ml-25m/ratings.csv')\n",
    "df = df.drop('timestamp', axis=1)\n",
    "df.loc[:,'rating'] *= 2\n",
    "df = df.astype(int)\n",
    "\n",
    "max_userId = df.max().loc['userId']\n",
    "max_movieId = df.max().loc['movieId']"
   ]
  },
  {
   "cell_type": "code",
   "execution_count": 9,
   "metadata": {},
   "outputs": [
    {
     "name": "stdout",
     "output_type": "stream",
     "text": [
      "209171\n",
      "162541\n"
     ]
    }
   ],
   "source": [
    "print(max_movieId)\n",
    "print(max_userId)"
   ]
  },
  {
   "cell_type": "code",
   "execution_count": 7,
   "metadata": {},
   "outputs": [],
   "source": [
    "userId_to_movieId_list = {}\n",
    "for row in df.itertuples(): # In df, userId and movieId starts from 1\n",
    "    # make userId and movieId start from 0\n",
    "    if row.userId-1 not in userId_to_movieId_list.keys():\n",
    "        userId_to_movieId_list[row.userId-1]=[row.movieId-1]\n",
    "    else:\n",
    "        userId_to_movieId_list[row.userId-1].append(row.movieId-1)\n",
    "\n",
    "movieId_to_userId_list = {}\n",
    "for row in df.itertuples(): # In df, userId and movieId starts from 1\n",
    "    # make userId and movieId start from 0\n",
    "    if row.movieId-1 not in movieId_to_userId_list.keys():\n",
    "        movieId_to_userId_list[row.movieId-1]=[row.userId-1]\n",
    "    else:\n",
    "        movieId_to_userId_list[row.movieId-1].append(row.userId-1)"
   ]
  },
  {
   "cell_type": "code",
   "execution_count": 13,
   "metadata": {},
   "outputs": [],
   "source": [
    "ratings = {}\n",
    "for row in df.itertuples():\n",
    "    # make userId and movieId start from 0\n",
    "    ratings[(row.userId-1, row.movieId-1)]=row.rating"
   ]
  },
  {
   "cell_type": "code",
   "execution_count": 22,
   "metadata": {},
   "outputs": [],
   "source": [
    "X = np.random.uniform(0,10,(k, max_userId))\n",
    "Y = np.random.uniform(0,10,(k, max_movieId))\n",
    "X1 = np.zeros((k,max_userId))\n",
    "Y1 = np.zeros((k,max_movieId))"
   ]
  },
  {
   "cell_type": "code",
   "execution_count": 18,
   "metadata": {
    "tags": []
   },
   "outputs": [
    {
     "name": "stdout",
     "output_type": "stream",
     "text": [
      "Execution time in seconds: 214.7732572555542\n"
     ]
    }
   ],
   "source": [
    "import time\n",
    "startTime = time.time()\n",
    "\n",
    "for u in range(max_userId): # u starts from 0\n",
    "    if u not in userId_to_movieId_list.keys(): # in this dictionary, userId starts from 0\n",
    "        continue\n",
    "    sum_yi_yiT = np.zeros((k,k))\n",
    "    sum_rui_yi = np.zeros((k,1))\n",
    "    for i in userId_to_movieId_list[u]: # in this dictionary, userId and movieId starts from 0\n",
    "        sum_yi_yiT += Y[:,i:i+1]@Y[:,i:i+1].T\n",
    "        sum_rui_yi += ratings[(u,i)]*Y[:,i:i+1]\n",
    "    X1[:,u:u+1] = np.linalg.inv(sum_yi_yiT+lambd*np.diag(np.ones(k)))@sum_rui_yi\n",
    "\n",
    "executionTime = (time.time() - startTime)\n",
    "print('Execution time in seconds: ' + str(executionTime))"
   ]
  },
  {
   "cell_type": "code",
   "execution_count": 21,
   "metadata": {},
   "outputs": [
    {
     "name": "stdout",
     "output_type": "stream",
     "text": [
      "Execution time in seconds: 268.2666640281677\n"
     ]
    }
   ],
   "source": [
    "import time\n",
    "startTime = time.time()\n",
    "\n",
    "for i in range(max_movieId): # i starts from 0\n",
    "    if i not in movieId_to_userId_list.keys():\n",
    "        continue\n",
    "    sum_xu_xuT = np.zeros((k,k))\n",
    "    sum_rui_xu = np.zeros((k,1))\n",
    "    for u in movieId_to_userId_list[i]: # in this dictionary, userId and movieId starts from 0\n",
    "        sum_xu_xuT += X[:,u:u+1]@X[:,u:u+1].T\n",
    "        sum_rui_xu += ratings[(u,i)]*X[:,u:u+1]\n",
    "    Y1[:,i:i+1] = np.linalg.inv(sum_xu_xuT+lambd*np.diag(np.ones(k)))@sum_rui_xu\n",
    "\n",
    "executionTime = (time.time() - startTime)\n",
    "print('Execution time in seconds: ' + str(executionTime))"
   ]
  },
  {
   "cell_type": "code",
   "execution_count": null,
   "metadata": {},
   "outputs": [
    {
     "name": "stdout",
     "output_type": "stream",
     "text": [
      "Current Iteration: 1\n"
     ]
    }
   ],
   "source": [
    "import time\n",
    "startTime = time.time()\n",
    "\n",
    "iteration = 0\n",
    "while True:\n",
    "    iteration += 1\n",
    "    print('Current Iteration: ' + str(iteration))\n",
    "    \n",
    "    for u in range(max_userId): # u starts from 0\n",
    "        if u not in userId_to_movieId_list.keys(): # in this dictionary, userId starts from 0\n",
    "            continue\n",
    "        sum_yi_yiT = np.zeros((k,k))\n",
    "        sum_rui_yi = np.zeros((k,1))\n",
    "        for i in userId_to_movieId_list[u]: # in this dictionary, userId and movieId starts from 0\n",
    "            sum_yi_yiT += Y[:,i:i+1]@Y[:,i:i+1].T\n",
    "            sum_rui_yi += ratings[(u,i)]*Y[:,i:i+1]\n",
    "        X1[:,u:u+1] = np.linalg.inv(sum_yi_yiT+lambd*np.diag(np.ones(k)))@sum_rui_yi\n",
    "    \n",
    "    for i in range(max_movieId): # i starts from 0\n",
    "        if i not in movieId_to_userId_list.keys():\n",
    "            continue\n",
    "        sum_xu_xuT = np.zeros((k,k))\n",
    "        sum_rui_xu = np.zeros((k,1))\n",
    "        for u in movieId_to_userId_list[i]: # in this dictionary, userId and movieId starts from 0\n",
    "            sum_xu_xuT += X[:,u:u+1]@X[:,u:u+1].T\n",
    "            sum_rui_xu += ratings[(u,i)]*X[:,u:u+1]\n",
    "        Y1[:,i:i+1] = np.linalg.inv(sum_xu_xuT+lambd*np.diag(np.ones(k)))@sum_rui_xu\n",
    "\n",
    "    if np.linalg.norm(X1-X)<1e-5 and np.linalg.norm(Y1-Y)<1e-5:\n",
    "        break\n",
    "    \n",
    "    X = X1\n",
    "    Y = Y1\n",
    "        \n",
    "executionTime = (time.time() - startTime)\n",
    "print('Execution time in seconds: ' + str(executionTime))\n",
    "print('Total iterations: ' + str(iteration))"
   ]
  },
  {
   "cell_type": "code",
   "execution_count": null,
   "metadata": {},
   "outputs": [],
   "source": []
  },
  {
   "cell_type": "code",
   "execution_count": null,
   "metadata": {},
   "outputs": [],
   "source": []
  },
  {
   "cell_type": "code",
   "execution_count": null,
   "metadata": {},
   "outputs": [],
   "source": []
  }
 ],
 "metadata": {
  "kernelspec": {
   "display_name": "Python 3 (ipykernel)",
   "language": "python",
   "name": "python3"
  },
  "language_info": {
   "codemirror_mode": {
    "name": "ipython",
    "version": 3
   },
   "file_extension": ".py",
   "mimetype": "text/x-python",
   "name": "python",
   "nbconvert_exporter": "python",
   "pygments_lexer": "ipython3",
   "version": "3.8.8"
  },
  "vscode": {
   "interpreter": {
    "hash": "4d9defa72c2715dab9f7f172572cd30a1ab1a2083462d32ef96aadb7c6e0c73b"
   }
  }
 },
 "nbformat": 4,
 "nbformat_minor": 4
}
