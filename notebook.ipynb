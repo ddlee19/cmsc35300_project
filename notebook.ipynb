{
 "cells": [
  {
   "cell_type": "markdown",
   "metadata": {},
   "source": [
    "## CMSC 35300 Final Project"
   ]
  },
  {
   "cell_type": "code",
   "execution_count": 73,
   "metadata": {},
   "outputs": [],
   "source": [
    "import time\n",
    "import json\n",
    "import numpy as np\n",
    "import matplotlib.pyplot as plt\n",
    "from pandas import read_csv"
   ]
  },
  {
   "cell_type": "code",
   "execution_count": 2,
   "metadata": {},
   "outputs": [],
   "source": [
    "df = read_csv('ml-25m/ratings.csv')\n",
    "df = df.drop('timestamp', axis=1)\n",
    "df.loc[:,'rating'] *= 2  # make the ratings into an integer value\n",
    "df = df.astype(int)\n",
    "\n",
    "max_userId = df.max().loc['userId']\n",
    "max_movieId = df.max().loc['movieId']\n",
    "observation_number = df.index[-1]+1\n",
    "\n",
    "observed_data = df.to_numpy()\n",
    "observed_data[:,:-1] = observed_data[:,:-1] -1"
   ]
  },
  {
   "cell_type": "code",
   "execution_count": null,
   "metadata": {},
   "outputs": [],
   "source": []
  },
  {
   "cell_type": "code",
   "execution_count": 64,
   "metadata": {
    "tags": []
   },
   "outputs": [],
   "source": [
    "def power_factorization(n, X0, Y0, t_set, k, lambd, N):\n",
    "    slices = observation_number//N\n",
    "    \n",
    "    X = X0\n",
    "    Y = Y0\n",
    "    X1 = np.zeros((k,max_userId))\n",
    "    Y1 = np.zeros((k,max_movieId))\n",
    "    \n",
    "    startTime = time.time()\n",
    "\n",
    "    iteration = 0\n",
    "    # print('Current inner-iteration: ' + str(iteration))\n",
    "    # print('np.linalg.norm(X1-X) = ' + str(np.linalg.norm(X1-X)))\n",
    "    # print('np.linalg.norm(Y1-Y) = ' + str(np.linalg.norm(Y1-Y))+'\\n')\n",
    "\n",
    "    Xnorm_diff = np.linalg.norm(X1-X)\n",
    "    Ynorm_diff = np.linalg.norm(Y1-Y)\n",
    "\n",
    "    while True:\n",
    "        iteration += 1\n",
    "        # print('Current inner-iteration: ' + str(iteration))\n",
    "\n",
    "\n",
    "        u_to_sums = {}\n",
    "        for s in range(slices):\n",
    "            u, i, r = t_set[s,:]\n",
    "            if u not in u_to_sums.keys():\n",
    "                u_to_sums[u] = {'sum_yi_yiT':np.zeros((k,k)), 'sum_rui_yi':np.zeros((k,1))}\n",
    "            u_to_sums[u]['sum_yi_yiT'] += Y[:,i:i+1]@Y[:,i:i+1].T\n",
    "            u_to_sums[u]['sum_rui_yi'] += r*Y[:,i:i+1]\n",
    "        for u in u_to_sums.keys():\n",
    "            X1[:,u:u+1] = np.linalg.inv(u_to_sums[u]['sum_yi_yiT']+lambd*np.diag(np.ones(k)))@u_to_sums[u]['sum_rui_yi']\n",
    "\n",
    "        executionTime = (time.time() - startTime)\n",
    "        # print('Elapsed time in seconds: ' + str(executionTime))\n",
    "\n",
    "        Xnorm_diff = np.linalg.norm(X1-X)\n",
    "        # print('np.linalg.norm(X1-X) = ' + str(Xnorm_diff)+'\\n')\n",
    "\n",
    "        if Xnorm_diff<1e-5 and Ynorm_diff<1e-5:\n",
    "            break\n",
    "\n",
    "        X = X1\n",
    "\n",
    "\n",
    "        i_to_sums = {}\n",
    "        for s in range(slices):\n",
    "            u, i, r = t_set[s,:]\n",
    "            if i not in i_to_sums.keys():\n",
    "                i_to_sums[i] = {'sum_xu_xuT': np.zeros((k,k)), 'sum_rui_xu': np.zeros((k,1))}\n",
    "            i_to_sums[i]['sum_xu_xuT'] += X[:,u:u+1]@X[:,u:u+1].T\n",
    "            i_to_sums[i]['sum_rui_xu'] += r*X[:,u:u+1]\n",
    "        for i in i_to_sums.keys():\n",
    "            Y1[:,i:i+1] = np.linalg.inv(i_to_sums[i]['sum_xu_xuT']+lambd*np.diag(np.ones(k)))@i_to_sums[i]['sum_rui_xu']\n",
    "\n",
    "        executionTime = (time.time() - startTime)\n",
    "        # print('Elapsed time in seconds: ' + str(executionTime))\n",
    "\n",
    "        Ynorm_diff = np.linalg.norm(Y1-Y)\n",
    "        # print('np.linalg.norm(Y1-Y) = ' + str(Ynorm_diff)+'\\n')\n",
    "\n",
    "        if Xnorm_diff<1e-5 and Ynorm_diff<1e-5:\n",
    "            break\n",
    "\n",
    "        Y = Y1\n",
    "\n",
    "\n",
    "    executionTime = (time.time() - startTime)\n",
    "    # print('Execution time in seconds: ' + str(executionTime))\n",
    "    # print('Total inner-iterations: ' + str(iteration))\n",
    "    \n",
    "    return X, Y"
   ]
  },
  {
   "cell_type": "code",
   "execution_count": 65,
   "metadata": {},
   "outputs": [],
   "source": [
    "def create_split_sets(N):\n",
    "    startTime = time.time()\n",
    "    \n",
    "    slices = observation_number//N\n",
    "\n",
    "    split_sets = np.zeros((N,slices, 3), dtype=int)\n",
    "\n",
    "    random_indices = np.arange(observation_number)\n",
    "    np.random.shuffle(random_indices)\n",
    "    random_indices = random_indices.reshape((N,slices))\n",
    "\n",
    "    for i in range(N):\n",
    "        for j in range(slices):\n",
    "            split_sets[i,j,:] = observed_data[random_indices[i,j],:]\n",
    "    \n",
    "    executionTime = (time.time() - startTime)\n",
    "    # print('Execution time in seconds: ' + str(executionTime))\n",
    "    \n",
    "    return split_sets"
   ]
  },
  {
   "cell_type": "code",
   "execution_count": 66,
   "metadata": {},
   "outputs": [],
   "source": [
    "def calculate_average_RMS(split_sets, k, lambd, N):\n",
    "    startTime = time.time()\n",
    "\n",
    "    slices = observation_number//N\n",
    "    X0 = np.random.uniform(0,10,(k, max_userId))\n",
    "    Y0 = np.random.uniform(0,10,(k, max_movieId))\n",
    "\n",
    "    average_RMS = 0\n",
    "    for n in range(N):\n",
    "        training_set = np.zeros(((N-1)*slices,3), dtype=int)\n",
    "        test_set = np.zeros((slices,3), dtype=int)\n",
    "        temp = np.append(split_sets[:n,:,:], split_sets[n+1:,:,:],axis=0)\n",
    "        for t in range(N-1):\n",
    "            training_set[t*slices:(t+1)*slices,:] = temp[t:t+1,:,:]\n",
    "        test_set[:,:] = split_sets[n:n+1,:,:]\n",
    "\n",
    "        X, Y = power_factorization(n, X0, Y0, training_set, k, lambd, N)\n",
    "\n",
    "        sum_first_term = 0\n",
    "        for s in range(slices):\n",
    "            u, m, r = test_set[s,:]\n",
    "            sum_first_term += (r - X[:,u].T@Y[:,m])**2\n",
    "\n",
    "        # print(\"For n=\" + str(n) + \": sum_first_term + lambda*Frobenius_norm = \" + str(sum_first_term + lambd*(np.linalg.norm(X)+np.linalg.norm(Y))))\n",
    "        # print(\"RMS for n=\" + str(n) + \": \" + str(np.sqrt(sum_first_term/slices)))\n",
    "        average_RMS += np.sqrt(sum_first_term/slices)\n",
    "    average_RMS /= N\n",
    "    print(\"Average RMS for k=\" + str(k) + \", lambda=\" + str(lambd) +\": \" + str(average_RMS))\n",
    "\n",
    "    executionTime = (time.time() - startTime)\n",
    "    print('Execution time in seconds: ' + str(executionTime) + \"\\n\")\n",
    "    \n",
    "    return average_RMS, executionTime\n"
   ]
  },
  {
   "cell_type": "code",
   "execution_count": null,
   "metadata": {},
   "outputs": [],
   "source": []
  },
  {
   "cell_type": "code",
   "execution_count": 68,
   "metadata": {
    "tags": []
   },
   "outputs": [],
   "source": [
    "N = 5\n",
    "\n",
    "kwargs_list = []\n",
    "for k in [5, 10, 15, 20, 25, 30]:\n",
    "    for lambd in [10, 100, 1000, 10000, 100000, 1000000]:\n",
    "        kwargs_list.append({'N': N, 'k': k, 'lambd': lambd})\n",
    "\n",
    "split_sets = create_split_sets(N)"
   ]
  },
  {
   "cell_type": "code",
   "execution_count": 69,
   "metadata": {
    "collapsed": true,
    "jupyter": {
     "outputs_hidden": true
    },
    "tags": []
   },
   "outputs": [
    {
     "name": "stdout",
     "output_type": "stream",
     "text": [
      "Average RMS for k=5, lambda=10: 2.088103338466175\n",
      "Execution time in seconds: 1364.422256231308\n",
      "\n",
      "Average RMS for k=5, lambda=100: 2.7196876619144894\n",
      "Execution time in seconds: 1274.9718589782715\n",
      "\n",
      "Average RMS for k=5, lambda=1000: 4.882878612254315\n",
      "Execution time in seconds: 1238.1388669013977\n",
      "\n",
      "Average RMS for k=5, lambda=10000: 7.378019703981335\n",
      "Execution time in seconds: 1245.5381557941437\n",
      "\n",
      "Average RMS for k=5, lambda=100000: 7.379242498731503\n",
      "Execution time in seconds: 1240.8431339263916\n",
      "\n",
      "Average RMS for k=5, lambda=1000000: 7.379242499192398\n",
      "Execution time in seconds: 1239.5704717636108\n",
      "\n",
      "Average RMS for k=10, lambda=10: 2.261053177256763\n",
      "Execution time in seconds: 1298.1460421085358\n",
      "\n",
      "Average RMS for k=10, lambda=100: 2.946800500589621\n",
      "Execution time in seconds: 1298.156325340271\n",
      "\n",
      "Average RMS for k=10, lambda=1000: 4.9425406511523695\n",
      "Execution time in seconds: 1293.7090198993683\n",
      "\n",
      "Average RMS for k=10, lambda=10000: 7.378069271736663\n",
      "Execution time in seconds: 1307.3968591690063\n",
      "\n",
      "Average RMS for k=10, lambda=100000: 7.379242498412805\n",
      "Execution time in seconds: 1300.3251960277557\n",
      "\n",
      "Average RMS for k=10, lambda=1000000: 7.379242499192398\n",
      "Execution time in seconds: 1302.868516921997\n",
      "\n",
      "Average RMS for k=15, lambda=10: 2.4311738750423992\n",
      "Execution time in seconds: 1384.9935081005096\n",
      "\n",
      "Average RMS for k=15, lambda=100: 3.045728443279267\n",
      "Execution time in seconds: 1376.918142080307\n",
      "\n",
      "Average RMS for k=15, lambda=1000: 4.974354691770901\n",
      "Execution time in seconds: 1376.9729690551758\n",
      "\n",
      "Average RMS for k=15, lambda=10000: 7.378170257412084\n",
      "Execution time in seconds: 1408.8055469989777\n",
      "\n",
      "Average RMS for k=15, lambda=100000: 7.379242498208875\n",
      "Execution time in seconds: 1373.8455021381378\n",
      "\n",
      "Average RMS for k=15, lambda=1000000: 7.379242499192398\n",
      "Execution time in seconds: 1384.973716020584\n",
      "\n",
      "Average RMS for k=20, lambda=10: 2.5270897123723293\n",
      "Execution time in seconds: 1459.603019952774\n",
      "\n",
      "Average RMS for k=20, lambda=100: 3.1133754823456945\n",
      "Execution time in seconds: 1472.3190288543701\n",
      "\n",
      "Average RMS for k=20, lambda=1000: 4.9942281414278655\n",
      "Execution time in seconds: 1457.7940578460693\n",
      "\n",
      "Average RMS for k=20, lambda=10000: 7.37826664549312\n",
      "Execution time in seconds: 1457.263986825943\n",
      "\n",
      "Average RMS for k=20, lambda=100000: 7.379242498095668\n",
      "Execution time in seconds: 1460.3330218791962\n",
      "\n",
      "Average RMS for k=20, lambda=1000000: 7.379242499192398\n",
      "Execution time in seconds: 1451.5020129680634\n",
      "\n",
      "Average RMS for k=25, lambda=10: 2.62094006020118\n",
      "Execution time in seconds: 1578.6002397537231\n",
      "\n",
      "Average RMS for k=25, lambda=100: 3.185646860114908\n",
      "Execution time in seconds: 1570.4181442260742\n",
      "\n",
      "Average RMS for k=25, lambda=1000: 5.007735018568136\n",
      "Execution time in seconds: 1575.5775320529938\n",
      "\n",
      "Average RMS for k=25, lambda=10000: 7.378354334562751\n",
      "Execution time in seconds: 1573.4274439811707\n",
      "\n",
      "Average RMS for k=25, lambda=100000: 7.3792424980119815\n",
      "Execution time in seconds: 1591.067820072174\n",
      "\n",
      "Average RMS for k=25, lambda=1000000: 7.379242499192398\n",
      "Execution time in seconds: 1577.673232793808\n",
      "\n",
      "Average RMS for k=30, lambda=10: 2.695824935799107\n",
      "Execution time in seconds: 1673.2862210273743\n",
      "\n",
      "Average RMS for k=30, lambda=100: 3.194234806260554\n",
      "Execution time in seconds: 1700.9804170131683\n",
      "\n",
      "Average RMS for k=30, lambda=1000: 5.018665429574571\n",
      "Execution time in seconds: 1687.6163630485535\n",
      "\n",
      "Average RMS for k=30, lambda=10000: 7.378427944754148\n",
      "Execution time in seconds: 1677.8564190864563\n",
      "\n",
      "Average RMS for k=30, lambda=100000: 7.379242497955822\n",
      "Execution time in seconds: 1677.0211629867554\n",
      "\n",
      "Average RMS for k=30, lambda=1000000: 7.379242499192398\n",
      "Execution time in seconds: 1673.5854160785675\n",
      "\n"
     ]
    }
   ],
   "source": [
    "new_kwargs_list = []\n",
    "for kwargs in kwargs_list:\n",
    "    average_RMS, executionTime = calculate_average_RMS(split_sets, **kwargs)\n",
    "    kwargs['average_RMS'] = average_RMS\n",
    "    kwargs['executionTime'] = executionTime\n",
    "    new_kwargs_list.append(kwargs)"
   ]
  },
  {
   "cell_type": "code",
   "execution_count": 74,
   "metadata": {
    "collapsed": true,
    "jupyter": {
     "outputs_hidden": true
    },
    "tags": []
   },
   "outputs": [
    {
     "data": {
      "text/plain": [
       "[{'N': 5,\n",
       "  'k': 5,\n",
       "  'lambd': 10,\n",
       "  'average_RMS': 2.088103338466175,\n",
       "  'executionTime': 1364.422256231308},\n",
       " {'N': 5,\n",
       "  'k': 5,\n",
       "  'lambd': 100,\n",
       "  'average_RMS': 2.7196876619144894,\n",
       "  'executionTime': 1274.9718589782715},\n",
       " {'N': 5,\n",
       "  'k': 5,\n",
       "  'lambd': 1000,\n",
       "  'average_RMS': 4.882878612254315,\n",
       "  'executionTime': 1238.1388669013977},\n",
       " {'N': 5,\n",
       "  'k': 5,\n",
       "  'lambd': 10000,\n",
       "  'average_RMS': 7.378019703981335,\n",
       "  'executionTime': 1245.5381557941437},\n",
       " {'N': 5,\n",
       "  'k': 5,\n",
       "  'lambd': 100000,\n",
       "  'average_RMS': 7.379242498731503,\n",
       "  'executionTime': 1240.8431339263916},\n",
       " {'N': 5,\n",
       "  'k': 5,\n",
       "  'lambd': 1000000,\n",
       "  'average_RMS': 7.379242499192398,\n",
       "  'executionTime': 1239.5704717636108},\n",
       " {'N': 5,\n",
       "  'k': 10,\n",
       "  'lambd': 10,\n",
       "  'average_RMS': 2.261053177256763,\n",
       "  'executionTime': 1298.1460421085358},\n",
       " {'N': 5,\n",
       "  'k': 10,\n",
       "  'lambd': 100,\n",
       "  'average_RMS': 2.946800500589621,\n",
       "  'executionTime': 1298.156325340271},\n",
       " {'N': 5,\n",
       "  'k': 10,\n",
       "  'lambd': 1000,\n",
       "  'average_RMS': 4.9425406511523695,\n",
       "  'executionTime': 1293.7090198993683},\n",
       " {'N': 5,\n",
       "  'k': 10,\n",
       "  'lambd': 10000,\n",
       "  'average_RMS': 7.378069271736663,\n",
       "  'executionTime': 1307.3968591690063},\n",
       " {'N': 5,\n",
       "  'k': 10,\n",
       "  'lambd': 100000,\n",
       "  'average_RMS': 7.379242498412805,\n",
       "  'executionTime': 1300.3251960277557},\n",
       " {'N': 5,\n",
       "  'k': 10,\n",
       "  'lambd': 1000000,\n",
       "  'average_RMS': 7.379242499192398,\n",
       "  'executionTime': 1302.868516921997},\n",
       " {'N': 5,\n",
       "  'k': 15,\n",
       "  'lambd': 10,\n",
       "  'average_RMS': 2.4311738750423992,\n",
       "  'executionTime': 1384.9935081005096},\n",
       " {'N': 5,\n",
       "  'k': 15,\n",
       "  'lambd': 100,\n",
       "  'average_RMS': 3.045728443279267,\n",
       "  'executionTime': 1376.918142080307},\n",
       " {'N': 5,\n",
       "  'k': 15,\n",
       "  'lambd': 1000,\n",
       "  'average_RMS': 4.974354691770901,\n",
       "  'executionTime': 1376.9729690551758},\n",
       " {'N': 5,\n",
       "  'k': 15,\n",
       "  'lambd': 10000,\n",
       "  'average_RMS': 7.378170257412084,\n",
       "  'executionTime': 1408.8055469989777},\n",
       " {'N': 5,\n",
       "  'k': 15,\n",
       "  'lambd': 100000,\n",
       "  'average_RMS': 7.379242498208875,\n",
       "  'executionTime': 1373.8455021381378},\n",
       " {'N': 5,\n",
       "  'k': 15,\n",
       "  'lambd': 1000000,\n",
       "  'average_RMS': 7.379242499192398,\n",
       "  'executionTime': 1384.973716020584},\n",
       " {'N': 5,\n",
       "  'k': 20,\n",
       "  'lambd': 10,\n",
       "  'average_RMS': 2.5270897123723293,\n",
       "  'executionTime': 1459.603019952774},\n",
       " {'N': 5,\n",
       "  'k': 20,\n",
       "  'lambd': 100,\n",
       "  'average_RMS': 3.1133754823456945,\n",
       "  'executionTime': 1472.3190288543701},\n",
       " {'N': 5,\n",
       "  'k': 20,\n",
       "  'lambd': 1000,\n",
       "  'average_RMS': 4.9942281414278655,\n",
       "  'executionTime': 1457.7940578460693},\n",
       " {'N': 5,\n",
       "  'k': 20,\n",
       "  'lambd': 10000,\n",
       "  'average_RMS': 7.37826664549312,\n",
       "  'executionTime': 1457.263986825943},\n",
       " {'N': 5,\n",
       "  'k': 20,\n",
       "  'lambd': 100000,\n",
       "  'average_RMS': 7.379242498095668,\n",
       "  'executionTime': 1460.3330218791962},\n",
       " {'N': 5,\n",
       "  'k': 20,\n",
       "  'lambd': 1000000,\n",
       "  'average_RMS': 7.379242499192398,\n",
       "  'executionTime': 1451.5020129680634},\n",
       " {'N': 5,\n",
       "  'k': 25,\n",
       "  'lambd': 10,\n",
       "  'average_RMS': 2.62094006020118,\n",
       "  'executionTime': 1578.6002397537231},\n",
       " {'N': 5,\n",
       "  'k': 25,\n",
       "  'lambd': 100,\n",
       "  'average_RMS': 3.185646860114908,\n",
       "  'executionTime': 1570.4181442260742},\n",
       " {'N': 5,\n",
       "  'k': 25,\n",
       "  'lambd': 1000,\n",
       "  'average_RMS': 5.007735018568136,\n",
       "  'executionTime': 1575.5775320529938},\n",
       " {'N': 5,\n",
       "  'k': 25,\n",
       "  'lambd': 10000,\n",
       "  'average_RMS': 7.378354334562751,\n",
       "  'executionTime': 1573.4274439811707},\n",
       " {'N': 5,\n",
       "  'k': 25,\n",
       "  'lambd': 100000,\n",
       "  'average_RMS': 7.3792424980119815,\n",
       "  'executionTime': 1591.067820072174},\n",
       " {'N': 5,\n",
       "  'k': 25,\n",
       "  'lambd': 1000000,\n",
       "  'average_RMS': 7.379242499192398,\n",
       "  'executionTime': 1577.673232793808},\n",
       " {'N': 5,\n",
       "  'k': 30,\n",
       "  'lambd': 10,\n",
       "  'average_RMS': 2.695824935799107,\n",
       "  'executionTime': 1673.2862210273743},\n",
       " {'N': 5,\n",
       "  'k': 30,\n",
       "  'lambd': 100,\n",
       "  'average_RMS': 3.194234806260554,\n",
       "  'executionTime': 1700.9804170131683},\n",
       " {'N': 5,\n",
       "  'k': 30,\n",
       "  'lambd': 1000,\n",
       "  'average_RMS': 5.018665429574571,\n",
       "  'executionTime': 1687.6163630485535},\n",
       " {'N': 5,\n",
       "  'k': 30,\n",
       "  'lambd': 10000,\n",
       "  'average_RMS': 7.378427944754148,\n",
       "  'executionTime': 1677.8564190864563},\n",
       " {'N': 5,\n",
       "  'k': 30,\n",
       "  'lambd': 100000,\n",
       "  'average_RMS': 7.379242497955822,\n",
       "  'executionTime': 1677.0211629867554},\n",
       " {'N': 5,\n",
       "  'k': 30,\n",
       "  'lambd': 1000000,\n",
       "  'average_RMS': 7.379242499192398,\n",
       "  'executionTime': 1673.5854160785675}]"
      ]
     },
     "execution_count": 74,
     "metadata": {},
     "output_type": "execute_result"
    }
   ],
   "source": [
    "new_kwargs_list"
   ]
  },
  {
   "cell_type": "code",
   "execution_count": 71,
   "metadata": {},
   "outputs": [],
   "source": [
    "# Write to a JSON file\n",
    "with open(\"iterations.json\", \"w\") as outfile:\n",
    "    json.dump(new_kwargs_list, outfile)"
   ]
  },
  {
   "cell_type": "code",
   "execution_count": 72,
   "metadata": {
    "tags": []
   },
   "outputs": [
    {
     "name": "stdout",
     "output_type": "stream",
     "text": [
      "{'N': 5, 'k': 5, 'lambd': 10, 'average_RMS': 2.088103338466175, 'executionTime': 1364.422256231308}\n",
      "{'N': 5, 'k': 5, 'lambd': 100, 'average_RMS': 2.7196876619144894, 'executionTime': 1274.9718589782715}\n",
      "{'N': 5, 'k': 5, 'lambd': 1000, 'average_RMS': 4.882878612254315, 'executionTime': 1238.1388669013977}\n",
      "{'N': 5, 'k': 5, 'lambd': 10000, 'average_RMS': 7.378019703981335, 'executionTime': 1245.5381557941437}\n",
      "{'N': 5, 'k': 5, 'lambd': 100000, 'average_RMS': 7.379242498731503, 'executionTime': 1240.8431339263916}\n",
      "{'N': 5, 'k': 5, 'lambd': 1000000, 'average_RMS': 7.379242499192398, 'executionTime': 1239.5704717636108}\n",
      "{'N': 5, 'k': 10, 'lambd': 10, 'average_RMS': 2.261053177256763, 'executionTime': 1298.1460421085358}\n",
      "{'N': 5, 'k': 10, 'lambd': 100, 'average_RMS': 2.946800500589621, 'executionTime': 1298.156325340271}\n",
      "{'N': 5, 'k': 10, 'lambd': 1000, 'average_RMS': 4.9425406511523695, 'executionTime': 1293.7090198993683}\n",
      "{'N': 5, 'k': 10, 'lambd': 10000, 'average_RMS': 7.378069271736663, 'executionTime': 1307.3968591690063}\n",
      "{'N': 5, 'k': 10, 'lambd': 100000, 'average_RMS': 7.379242498412805, 'executionTime': 1300.3251960277557}\n",
      "{'N': 5, 'k': 10, 'lambd': 1000000, 'average_RMS': 7.379242499192398, 'executionTime': 1302.868516921997}\n",
      "{'N': 5, 'k': 15, 'lambd': 10, 'average_RMS': 2.4311738750423992, 'executionTime': 1384.9935081005096}\n",
      "{'N': 5, 'k': 15, 'lambd': 100, 'average_RMS': 3.045728443279267, 'executionTime': 1376.918142080307}\n",
      "{'N': 5, 'k': 15, 'lambd': 1000, 'average_RMS': 4.974354691770901, 'executionTime': 1376.9729690551758}\n",
      "{'N': 5, 'k': 15, 'lambd': 10000, 'average_RMS': 7.378170257412084, 'executionTime': 1408.8055469989777}\n",
      "{'N': 5, 'k': 15, 'lambd': 100000, 'average_RMS': 7.379242498208875, 'executionTime': 1373.8455021381378}\n",
      "{'N': 5, 'k': 15, 'lambd': 1000000, 'average_RMS': 7.379242499192398, 'executionTime': 1384.973716020584}\n",
      "{'N': 5, 'k': 20, 'lambd': 10, 'average_RMS': 2.5270897123723293, 'executionTime': 1459.603019952774}\n",
      "{'N': 5, 'k': 20, 'lambd': 100, 'average_RMS': 3.1133754823456945, 'executionTime': 1472.3190288543701}\n",
      "{'N': 5, 'k': 20, 'lambd': 1000, 'average_RMS': 4.9942281414278655, 'executionTime': 1457.7940578460693}\n",
      "{'N': 5, 'k': 20, 'lambd': 10000, 'average_RMS': 7.37826664549312, 'executionTime': 1457.263986825943}\n",
      "{'N': 5, 'k': 20, 'lambd': 100000, 'average_RMS': 7.379242498095668, 'executionTime': 1460.3330218791962}\n",
      "{'N': 5, 'k': 20, 'lambd': 1000000, 'average_RMS': 7.379242499192398, 'executionTime': 1451.5020129680634}\n",
      "{'N': 5, 'k': 25, 'lambd': 10, 'average_RMS': 2.62094006020118, 'executionTime': 1578.6002397537231}\n",
      "{'N': 5, 'k': 25, 'lambd': 100, 'average_RMS': 3.185646860114908, 'executionTime': 1570.4181442260742}\n",
      "{'N': 5, 'k': 25, 'lambd': 1000, 'average_RMS': 5.007735018568136, 'executionTime': 1575.5775320529938}\n",
      "{'N': 5, 'k': 25, 'lambd': 10000, 'average_RMS': 7.378354334562751, 'executionTime': 1573.4274439811707}\n",
      "{'N': 5, 'k': 25, 'lambd': 100000, 'average_RMS': 7.3792424980119815, 'executionTime': 1591.067820072174}\n",
      "{'N': 5, 'k': 25, 'lambd': 1000000, 'average_RMS': 7.379242499192398, 'executionTime': 1577.673232793808}\n",
      "{'N': 5, 'k': 30, 'lambd': 10, 'average_RMS': 2.695824935799107, 'executionTime': 1673.2862210273743}\n",
      "{'N': 5, 'k': 30, 'lambd': 100, 'average_RMS': 3.194234806260554, 'executionTime': 1700.9804170131683}\n",
      "{'N': 5, 'k': 30, 'lambd': 1000, 'average_RMS': 5.018665429574571, 'executionTime': 1687.6163630485535}\n",
      "{'N': 5, 'k': 30, 'lambd': 10000, 'average_RMS': 7.378427944754148, 'executionTime': 1677.8564190864563}\n",
      "{'N': 5, 'k': 30, 'lambd': 100000, 'average_RMS': 7.379242497955822, 'executionTime': 1677.0211629867554}\n",
      "{'N': 5, 'k': 30, 'lambd': 1000000, 'average_RMS': 7.379242499192398, 'executionTime': 1673.5854160785675}\n"
     ]
    }
   ],
   "source": [
    "# Opening JSON file\n",
    "with open('iterations.json', 'r') as openfile:\n",
    "    # Reading from json file\n",
    "    json_object = json.load(openfile)\n",
    "\n",
    "for dic in json_object:\n",
    "    print(dic)"
   ]
  },
  {
   "cell_type": "code",
   "execution_count": null,
   "metadata": {},
   "outputs": [],
   "source": []
  },
  {
   "cell_type": "code",
   "execution_count": 117,
   "metadata": {},
   "outputs": [],
   "source": [
    "k_list = [kwargs['k'] for kwargs in new_kwargs_list if kwargs['lambd'] == 100]\n",
    "RMS_list = [kwargs['average_RMS'] for kwargs in new_kwargs_list if kwargs['lambd'] == 100]\n",
    "execT_list = [kwargs['executionTime'] for kwargs in new_kwargs_list if kwargs['lambd'] == 100]"
   ]
  },
  {
   "cell_type": "code",
   "execution_count": 118,
   "metadata": {},
   "outputs": [
    {
     "data": {
      "image/png": "[encoded data removed]",
      "text/plain": [
       "<Figure size 432x288 with 1 Axes>"
      ]
     },
     "metadata": {
      "needs_background": "light"
     },
     "output_type": "display_data"
    }
   ],
   "source": [
    "plt.plot(k_list, RMS_list, '-bs')\n",
    "plt.xlabel('k') \n",
    "plt.ylabel('Root mean square error')\n",
    "plt.title('Lambda = 100')\n",
    "plt.savefig('k_RMSE.pdf', bbox_inches='tight')\n",
    "plt.show()"
   ]
  },
  {
   "cell_type": "code",
   "execution_count": 119,
   "metadata": {},
   "outputs": [
    {
     "data": {
      "image/png": "[encoded data removed]",
      "text/plain": [
       "<Figure size 432x288 with 1 Axes>"
      ]
     },
     "metadata": {
      "needs_background": "light"
     },
     "output_type": "display_data"
    }
   ],
   "source": [
    "plt.plot(k_list, execT_list, '-r^')\n",
    "plt.xlabel('k') \n",
    "plt.ylabel('Execution time in seconds')\n",
    "plt.title('Lambda = 100')\n",
    "plt.savefig('k_ExecT.pdf', bbox_inches='tight')\n",
    "plt.show()"
   ]
  },
  {
   "cell_type": "code",
   "execution_count": null,
   "metadata": {},
   "outputs": [],
   "source": []
  },
  {
   "cell_type": "code",
   "execution_count": 140,
   "metadata": {},
   "outputs": [],
   "source": [
    "lambd_list = [kwargs['lambd'] for kwargs in new_kwargs_list if kwargs['k'] == 25]\n",
    "RMS_list_lambd = [kwargs['average_RMS'] for kwargs in new_kwargs_list if kwargs['k'] == 25]\n",
    "execT_list_lambd = [kwargs['executionTime'] for kwargs in new_kwargs_list if kwargs['k'] == 25]"
   ]
  },
  {
   "cell_type": "code",
   "execution_count": 143,
   "metadata": {},
   "outputs": [
    {
     "data": {
      "image/png": "[encoded data removed]",
      "text/plain": [
       "<Figure size 432x288 with 1 Axes>"
      ]
     },
     "metadata": {
      "needs_background": "light"
     },
     "output_type": "display_data"
    }
   ],
   "source": [
    "plt.plot(lambd_list, RMS_list_lambd, '-bs')\n",
    "plt.xscale('log')\n",
    "plt.xlabel('Lambda') \n",
    "plt.ylabel('Root mean square error')\n",
    "plt.title('k = 25')\n",
    "plt.savefig('lambd_RMSE.pdf', bbox_inches='tight')\n",
    "plt.show()"
   ]
  },
  {
   "cell_type": "code",
   "execution_count": 144,
   "metadata": {},
   "outputs": [
    {
     "data": {
      "image/png": "[encoded data removed]",
      "text/plain": [
       "<Figure size 432x288 with 1 Axes>"
      ]
     },
     "metadata": {
      "needs_background": "light"
     },
     "output_type": "display_data"
    }
   ],
   "source": [
    "plt.plot(lambd_list, execT_list_lambd, '-r^')\n",
    "plt.xscale('log')\n",
    "plt.xlabel('Lambda') \n",
    "plt.ylabel('Execution time in seconds')\n",
    "plt.title('k = 25')\n",
    "plt.savefig('lambd_ExecT.pdf', bbox_inches='tight')\n",
    "plt.show()"
   ]
  },
  {
   "cell_type": "code",
   "execution_count": null,
   "metadata": {},
   "outputs": [],
   "source": []
  },
  {
   "cell_type": "code",
   "execution_count": null,
   "metadata": {},
   "outputs": [],
   "source": [
    "# np.savetxt('X.csv', X, delimiter=',')\n",
    "# np.savetxt('Y.csv', Y, delimiter=',')"
   ]
  },
  {
   "cell_type": "code",
   "execution_count": null,
   "metadata": {},
   "outputs": [],
   "source": [
    "# X = np.loadtxt('X.csv', delimiter=',')\n",
    "# Y = np.loadtxt('Y.csv', delimiter=',')"
   ]
  },
  {
   "cell_type": "code",
   "execution_count": null,
   "metadata": {},
   "outputs": [],
   "source": []
  }
 ],
 "metadata": {
  "kernelspec": {
   "display_name": "Python 3 (ipykernel)",
   "language": "python",
   "name": "python3"
  },
  "language_info": {
   "codemirror_mode": {
    "name": "ipython",
    "version": 3
   },
   "file_extension": ".py",
   "mimetype": "text/x-python",
   "name": "python",
   "nbconvert_exporter": "python",
   "pygments_lexer": "ipython3",
   "version": "3.8.8"
  },
  "vscode": {
   "interpreter": {
    "hash": "4d9defa72c2715dab9f7f172572cd30a1ab1a2083462d32ef96aadb7c6e0c73b"
   }
  }
 },
 "nbformat": 4,
 "nbformat_minor": 4
}
