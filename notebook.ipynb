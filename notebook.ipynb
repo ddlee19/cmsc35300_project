{
 "cells": [
  {
   "cell_type": "markdown",
   "metadata": {},
   "source": [
    "## CMSC 35300 Final Project"
   ]
  },
  {
   "cell_type": "code",
   "execution_count": 1,
   "metadata": {},
   "outputs": [],
   "source": [
    "import time\n",
    "import numpy as np\n",
    "from scipy.sparse import csc_matrix\n",
    "from pandas import read_csv"
   ]
  },
  {
   "cell_type": "code",
   "execution_count": 2,
   "metadata": {
    "tags": []
   },
   "outputs": [],
   "source": [
    "k = 10\n",
    "lambd = 4\n",
    "N = 5"
   ]
  },
  {
   "cell_type": "code",
   "execution_count": 3,
   "metadata": {},
   "outputs": [],
   "source": [
    "df = read_csv('ml-25m/ratings.csv')\n",
    "df = df.drop('timestamp', axis=1)\n",
    "df.loc[:,'rating'] *= 2\n",
    "df = df.astype(int)"
   ]
  },
  {
   "cell_type": "code",
   "execution_count": 4,
   "metadata": {},
   "outputs": [
    {
     "data": {
      "text/html": [
       "<div>\n",
       "<style scoped>\n",
       "    .dataframe tbody tr th:only-of-type {\n",
       "        vertical-align: middle;\n",
       "    }\n",
       "\n",
       "    .dataframe tbody tr th {\n",
       "        vertical-align: top;\n",
       "    }\n",
       "\n",
       "    .dataframe thead th {\n",
       "        text-align: right;\n",
       "    }\n",
       "</style>\n",
       "<table border=\"1\" class=\"dataframe\">\n",
       "  <thead>\n",
       "    <tr style=\"text-align: right;\">\n",
       "      <th></th>\n",
       "      <th>userId</th>\n",
       "      <th>movieId</th>\n",
       "      <th>rating</th>\n",
       "    </tr>\n",
       "  </thead>\n",
       "  <tbody>\n",
       "    <tr>\n",
       "      <th>0</th>\n",
       "      <td>1</td>\n",
       "      <td>296</td>\n",
       "      <td>10</td>\n",
       "    </tr>\n",
       "    <tr>\n",
       "      <th>1</th>\n",
       "      <td>1</td>\n",
       "      <td>306</td>\n",
       "      <td>7</td>\n",
       "    </tr>\n",
       "    <tr>\n",
       "      <th>2</th>\n",
       "      <td>1</td>\n",
       "      <td>307</td>\n",
       "      <td>10</td>\n",
       "    </tr>\n",
       "  </tbody>\n",
       "</table>\n",
       "</div>"
      ],
      "text/plain": [
       "   userId  movieId  rating\n",
       "0       1      296      10\n",
       "1       1      306       7\n",
       "2       1      307      10"
      ]
     },
     "execution_count": 4,
     "metadata": {},
     "output_type": "execute_result"
    }
   ],
   "source": [
    "df.head(3)"
   ]
  },
  {
   "cell_type": "code",
   "execution_count": 5,
   "metadata": {},
   "outputs": [],
   "source": [
    "max_userId = df.max().loc['userId']\n",
    "max_movieId = df.max().loc['movieId']\n",
    "observation_number = df.index[-1]+1\n",
    "slices = observation_number//N"
   ]
  },
  {
   "cell_type": "code",
   "execution_count": 6,
   "metadata": {},
   "outputs": [
    {
     "name": "stdout",
     "output_type": "stream",
     "text": [
      "209171\n",
      "162541\n",
      "25000095\n",
      "5000019\n"
     ]
    }
   ],
   "source": [
    "print(max_movieId)\n",
    "print(max_userId)\n",
    "print(observation_number)\n",
    "print(slices)"
   ]
  },
  {
   "cell_type": "code",
   "execution_count": 7,
   "metadata": {},
   "outputs": [
    {
     "data": {
      "text/plain": [
       "(25000095, 3)"
      ]
     },
     "execution_count": 7,
     "metadata": {},
     "output_type": "execute_result"
    }
   ],
   "source": [
    "observed_data = df.to_numpy()\n",
    "observed_data[:,:-1] = observed_data[:,:-1] -1\n",
    "observed_data.shape"
   ]
  },
  {
   "cell_type": "code",
   "execution_count": 8,
   "metadata": {},
   "outputs": [
    {
     "data": {
      "text/plain": [
       "array([[  0, 295,  10],\n",
       "       [  0, 305,   7],\n",
       "       [  0, 306,  10]])"
      ]
     },
     "execution_count": 8,
     "metadata": {},
     "output_type": "execute_result"
    }
   ],
   "source": [
    "observed_data[:3,:]"
   ]
  },
  {
   "cell_type": "code",
   "execution_count": 9,
   "metadata": {},
   "outputs": [
    {
     "data": {
      "text/html": [
       "<div>\n",
       "<style scoped>\n",
       "    .dataframe tbody tr th:only-of-type {\n",
       "        vertical-align: middle;\n",
       "    }\n",
       "\n",
       "    .dataframe tbody tr th {\n",
       "        vertical-align: top;\n",
       "    }\n",
       "\n",
       "    .dataframe thead th {\n",
       "        text-align: right;\n",
       "    }\n",
       "</style>\n",
       "<table border=\"1\" class=\"dataframe\">\n",
       "  <thead>\n",
       "    <tr style=\"text-align: right;\">\n",
       "      <th></th>\n",
       "      <th>userId</th>\n",
       "      <th>movieId</th>\n",
       "      <th>rating</th>\n",
       "    </tr>\n",
       "  </thead>\n",
       "  <tbody>\n",
       "    <tr>\n",
       "      <th>0</th>\n",
       "      <td>0</td>\n",
       "      <td>295</td>\n",
       "      <td>10</td>\n",
       "    </tr>\n",
       "    <tr>\n",
       "      <th>1</th>\n",
       "      <td>0</td>\n",
       "      <td>305</td>\n",
       "      <td>7</td>\n",
       "    </tr>\n",
       "    <tr>\n",
       "      <th>2</th>\n",
       "      <td>0</td>\n",
       "      <td>306</td>\n",
       "      <td>10</td>\n",
       "    </tr>\n",
       "  </tbody>\n",
       "</table>\n",
       "</div>"
      ],
      "text/plain": [
       "   userId  movieId  rating\n",
       "0       0      295      10\n",
       "1       0      305       7\n",
       "2       0      306      10"
      ]
     },
     "execution_count": 9,
     "metadata": {},
     "output_type": "execute_result"
    }
   ],
   "source": [
    "df.head(3)"
   ]
  },
  {
   "cell_type": "code",
   "execution_count": 10,
   "metadata": {},
   "outputs": [],
   "source": [
    "split_sets = np.zeros((N,slices, 3), dtype=int)"
   ]
  },
  {
   "cell_type": "code",
   "execution_count": 11,
   "metadata": {},
   "outputs": [],
   "source": [
    "random_indices = np.arange(observation_number)\n",
    "np.random.shuffle(random_indices)\n",
    "random_indices = random_indices.reshape((N,slices))"
   ]
  },
  {
   "cell_type": "code",
   "execution_count": 12,
   "metadata": {
    "tags": []
   },
   "outputs": [],
   "source": [
    "for i in range(N):\n",
    "    for j in range(slices):\n",
    "        split_sets[i,j,:] = observed_data[random_indices[i,j],:]"
   ]
  },
  {
   "cell_type": "code",
   "execution_count": 14,
   "metadata": {},
   "outputs": [
    {
     "name": "stdout",
     "output_type": "stream",
     "text": [
      "[42220 55954     6]\n",
      "[42220 55954     6]\n",
      "6514459\n"
     ]
    },
    {
     "data": {
      "text/html": [
       "<div>\n",
       "<style scoped>\n",
       "    .dataframe tbody tr th:only-of-type {\n",
       "        vertical-align: middle;\n",
       "    }\n",
       "\n",
       "    .dataframe tbody tr th {\n",
       "        vertical-align: top;\n",
       "    }\n",
       "\n",
       "    .dataframe thead th {\n",
       "        text-align: right;\n",
       "    }\n",
       "</style>\n",
       "<table border=\"1\" class=\"dataframe\">\n",
       "  <thead>\n",
       "    <tr style=\"text-align: right;\">\n",
       "      <th></th>\n",
       "      <th>userId</th>\n",
       "      <th>movieId</th>\n",
       "      <th>rating</th>\n",
       "    </tr>\n",
       "  </thead>\n",
       "  <tbody>\n",
       "    <tr>\n",
       "      <th>6514459</th>\n",
       "      <td>42220</td>\n",
       "      <td>55954</td>\n",
       "      <td>6</td>\n",
       "    </tr>\n",
       "  </tbody>\n",
       "</table>\n",
       "</div>"
      ],
      "text/plain": [
       "         userId  movieId  rating\n",
       "6514459   42220    55954       6"
      ]
     },
     "execution_count": 14,
     "metadata": {},
     "output_type": "execute_result"
    }
   ],
   "source": [
    "print(observed_data[random_indices[0,0],:])\n",
    "print(split_sets[0,0,:])\n",
    "print(random_indices[0,0])\n",
    "df.loc[(df['userId'] == split_sets[0,0,0]) & (df['movieId'] == split_sets[0,0,1])]"
   ]
  },
  {
   "cell_type": "code",
   "execution_count": 26,
   "metadata": {
    "tags": []
   },
   "outputs": [],
   "source": [
    "def power_factorization(n, X0, Y0, t_set):\n",
    "\n",
    "    X = X0\n",
    "    Y = Y0\n",
    "    X1 = np.zeros((k,max_userId))\n",
    "    Y1 = np.zeros((k,max_movieId))\n",
    "    \n",
    "    inner_startTime = time.time()\n",
    "\n",
    "    inner_iteration = 0\n",
    "    print('Current inner-iteration: ' + str(inner_iteration))\n",
    "    print('np.linalg.norm(X1-X) = ' + str(np.linalg.norm(X1-X)))\n",
    "    print('np.linalg.norm(Y1-Y) = ' + str(np.linalg.norm(Y1-Y))+'\\n')\n",
    "\n",
    "    Xnorm_diff = np.linalg.norm(X1-X)\n",
    "    Ynorm_diff = np.linalg.norm(Y1-Y)\n",
    "\n",
    "    while True:\n",
    "        inner_iteration += 1\n",
    "        print('Current inner-iteration: ' + str(inner_iteration))\n",
    "\n",
    "\n",
    "        u_to_sums = {}\n",
    "        for s in range(slices):\n",
    "            u, i, r = t_set[s,:]\n",
    "            if u not in u_to_sums.keys():\n",
    "                u_to_sums[u] = {'sum_yi_yiT':np.zeros((k,k)), 'sum_rui_yi':np.zeros((k,1))}\n",
    "            u_to_sums[u]['sum_yi_yiT'] += Y[:,i:i+1]@Y[:,i:i+1].T\n",
    "            u_to_sums[u]['sum_rui_yi'] += r*Y[:,i:i+1]\n",
    "        for u in u_to_sums.keys():\n",
    "            X1[:,u:u+1] = np.linalg.inv(u_to_sums[u]['sum_yi_yiT']+lambd*np.diag(np.ones(k)))@u_to_sums[u]['sum_rui_yi']\n",
    "\n",
    "        executionTime = (time.time() - inner_startTime)\n",
    "        print('Elapsed time in seconds: ' + str(executionTime))\n",
    "\n",
    "        Xnorm_diff = np.linalg.norm(X1-X)\n",
    "        print('np.linalg.norm(X1-X) = ' + str(Xnorm_diff)+'\\n')\n",
    "\n",
    "        if Xnorm_diff<1e-5 and Ynorm_diff<1e-5:\n",
    "            break\n",
    "\n",
    "        X = X1\n",
    "\n",
    "\n",
    "        i_to_sums = {}\n",
    "        for s in range(slices): # i starts from 0\n",
    "            u, i, r = t_set[s,:]\n",
    "            if i not in i_to_sums.keys():\n",
    "                i_to_sums[i] = {'sum_xu_xuT': np.zeros((k,k)), 'sum_rui_xu': np.zeros((k,1))}\n",
    "            i_to_sums[i]['sum_xu_xuT'] += X[:,u:u+1]@X[:,u:u+1].T\n",
    "            i_to_sums[i]['sum_rui_xu'] += r*X[:,u:u+1]\n",
    "        for i in i_to_sums.keys():\n",
    "            Y1[:,i:i+1] = np.linalg.inv(i_to_sums[i]['sum_xu_xuT']+lambd*np.diag(np.ones(k)))@i_to_sums[i]['sum_rui_xu']\n",
    "\n",
    "        executionTime = (time.time() - inner_startTime)\n",
    "        print('Elapsed time in seconds: ' + str(executionTime))\n",
    "\n",
    "        Ynorm_diff = np.linalg.norm(Y1-Y)\n",
    "        print('np.linalg.norm(Y1-Y) = ' + str(Ynorm_diff)+'\\n')\n",
    "\n",
    "        if Xnorm_diff<1e-5 and Ynorm_diff<1e-5:\n",
    "            break\n",
    "\n",
    "        Y = Y1\n",
    "\n",
    "\n",
    "    executionTime = (time.time() - inner_startTime)\n",
    "    print('Execution time in seconds: ' + str(executionTime))\n",
    "    print('Total inner-iterations: ' + str(inner_iteration))\n",
    "    \n",
    "    return X, Y"
   ]
  },
  {
   "cell_type": "code",
   "execution_count": 18,
   "metadata": {},
   "outputs": [],
   "source": []
  },
  {
   "cell_type": "code",
   "execution_count": 17,
   "metadata": {},
   "outputs": [],
   "source": [
    "X0 = np.random.uniform(0,10,(k, max_userId))\n",
    "Y0 = np.random.uniform(0,10,(k, max_movieId))"
   ]
  },
  {
   "cell_type": "code",
   "execution_count": 19,
   "metadata": {},
   "outputs": [],
   "source": [
    "for n in range(N):\n",
    "    training_set = np.zeros(((N-1)*slices,3), dtype=int)\n",
    "    test_set = np.zeros((slices,3), dtype=int)\n",
    "    temp = np.append(split_sets[:n,:,:], split_sets[n+1:,:,:],axis=0)\n",
    "    for t in range(N-1):\n",
    "        training_set[t*slices:(t+1)*slices,:] = temp[t:t+1,:,:]\n",
    "    test_set[:,:] = split_sets[n:n+1,:,:]\n",
    "\n",
    "    X, Y = power_factorization(n, X0, Y0, training_set)\n",
    "\n",
    "    "
   ]
  },
  {
   "cell_type": "code",
   "execution_count": null,
   "metadata": {},
   "outputs": [],
   "source": []
  },
  {
   "cell_type": "code",
   "execution_count": null,
   "metadata": {},
   "outputs": [],
   "source": []
  },
  {
   "cell_type": "code",
   "execution_count": null,
   "metadata": {},
   "outputs": [],
   "source": []
  },
  {
   "cell_type": "code",
   "execution_count": null,
   "metadata": {},
   "outputs": [],
   "source": []
  },
  {
   "cell_type": "code",
   "execution_count": null,
   "metadata": {},
   "outputs": [],
   "source": [
    "np.savetxt('X.csv', X, delimiter=',')\n",
    "np.savetxt('Y.csv', Y, delimiter=',')"
   ]
  },
  {
   "cell_type": "code",
   "execution_count": null,
   "metadata": {},
   "outputs": [],
   "source": [
    "# X = np.loadtxt('X.csv', delimiter=',')\n",
    "# Y = np.loadtxt('Y.csv', delimiter=',')"
   ]
  },
  {
   "cell_type": "code",
   "execution_count": null,
   "metadata": {},
   "outputs": [],
   "source": []
  },
  {
   "cell_type": "code",
   "execution_count": null,
   "metadata": {},
   "outputs": [],
   "source": []
  },
  {
   "cell_type": "code",
   "execution_count": null,
   "metadata": {},
   "outputs": [],
   "source": []
  },
  {
   "cell_type": "code",
   "execution_count": null,
   "metadata": {},
   "outputs": [],
   "source": []
  },
  {
   "cell_type": "code",
   "execution_count": null,
   "metadata": {},
   "outputs": [],
   "source": []
  },
  {
   "cell_type": "code",
   "execution_count": null,
   "metadata": {},
   "outputs": [],
   "source": [
    "sum_first_term = 0\n",
    "for userId, movieId in ratings.keys():\n",
    "    sum_first_term += (ratings[(userId,movieId)] - X[:,userId].T@Y[:,movieId])**2\n",
    "print(\"sum_first_term = \" + str(sum_first_term))\n",
    "print(\"sum_first_term + lambda*Frobenius_norm = \" + str(sum_first_term + lambd*(np.linalg.norm(X)+np.linalg.norm(Y))))"
   ]
  },
  {
   "cell_type": "code",
   "execution_count": null,
   "metadata": {},
   "outputs": [],
   "source": [
    "np.sqrt(sum_first_term/df.index[-1])"
   ]
  },
  {
   "cell_type": "code",
   "execution_count": null,
   "metadata": {},
   "outputs": [],
   "source": []
  },
  {
   "cell_type": "code",
   "execution_count": null,
   "metadata": {},
   "outputs": [],
   "source": []
  },
  {
   "cell_type": "code",
   "execution_count": null,
   "metadata": {},
   "outputs": [],
   "source": []
  }
 ],
 "metadata": {
  "kernelspec": {
   "display_name": "Python 3 (ipykernel)",
   "language": "python",
   "name": "python3"
  },
  "language_info": {
   "codemirror_mode": {
    "name": "ipython",
    "version": 3
   },
   "file_extension": ".py",
   "mimetype": "text/x-python",
   "name": "python",
   "nbconvert_exporter": "python",
   "pygments_lexer": "ipython3",
   "version": "3.8.8"
  },
  "vscode": {
   "interpreter": {
    "hash": "4d9defa72c2715dab9f7f172572cd30a1ab1a2083462d32ef96aadb7c6e0c73b"
   }
  }
 },
 "nbformat": 4,
 "nbformat_minor": 4
}
